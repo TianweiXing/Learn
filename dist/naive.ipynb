{
 "cells": [
  {
   "cell_type": "code",
   "execution_count": 1,
   "metadata": {
    "collapsed": true
   },
   "outputs": [],
   "source": [
    "import numpy as np\n",
    "import tensorflow as tf\n",
    "\n",
    "import matplotlib as mpl\n",
    "import matplotlib.pyplot as plt\n",
    "\n",
    "%matplotlib inline"
   ]
  },
  {
   "cell_type": "code",
   "execution_count": 2,
   "metadata": {
    "collapsed": true
   },
   "outputs": [],
   "source": [
    "## Import dataset\n",
    "from tensorflow.examples.tutorials.mnist import input_data"
   ]
  },
  {
   "cell_type": "code",
   "execution_count": 3,
   "metadata": {
    "collapsed": true
   },
   "outputs": [],
   "source": [
    "seed = 40\n",
    "np.random.seed(seed)\n",
    "tf.set_random_seed(seed)"
   ]
  },
  {
   "cell_type": "code",
   "execution_count": 4,
   "metadata": {
    "collapsed": false
   },
   "outputs": [
    {
     "name": "stdout",
     "output_type": "stream",
     "text": [
      "Extracting ./data/train-images-idx3-ubyte.gz\n",
      "Extracting ./data/train-labels-idx1-ubyte.gz\n",
      "Extracting ./data/t10k-images-idx3-ubyte.gz\n",
      "Extracting ./data/t10k-labels-idx1-ubyte.gz\n",
      "\n",
      "('Train images : ', (55000, 784), ' , train labels :', (55000, 10))\n",
      "('Test images : ', (10000, 784), ' , test labels :', (10000, 10))\n"
     ]
    }
   ],
   "source": [
    "mnist_data = input_data.read_data_sets('./data/', one_hot=True)\n",
    "train_imgs = mnist_data.train.images\n",
    "test_imgs = mnist_data.test.images\n",
    "\n",
    "train_labels = mnist_data.train.labels\n",
    "test_labels = mnist_data.test.labels\n",
    "\n",
    "print(\"\")\n",
    "print('Train images : ', train_imgs.shape, ' , train labels :', train_labels.shape)\n",
    "print('Test images : ', test_imgs.shape, ' , test labels :', test_labels.shape)"
   ]
  },
  {
   "cell_type": "code",
   "execution_count": 5,
   "metadata": {
    "collapsed": true
   },
   "outputs": [],
   "source": [
    "# define a linear FC learning layer\n",
    "\n",
    "def linear(input_node, num_out, scope):\n",
    "    with tf.variable_scope(scope or 'linear') as scope:\n",
    "        w = tf.get_variable('w', [input_node.get_shape()[1], num_out], initializer=tf.truncated_normal_initializer())\n",
    "        b = tf.get_variable('b', [num_out], initializer=tf.constant_initializer())\n",
    "        return tf.matmul(input_node, w) + b"
   ]
  },
  {
   "cell_type": "code",
   "execution_count": 6,
   "metadata": {
    "collapsed": true
   },
   "outputs": [],
   "source": [
    "client_id = 0\n",
    "learning_rate = 0.001\n"
   ]
  },
  {
   "cell_type": "code",
   "execution_count": 7,
   "metadata": {
    "collapsed": false
   },
   "outputs": [],
   "source": [
    "class FedLearnClient(object):\n",
    "    def __init__(self, train_imgs, train_labels, client_id, learning_rate=0.0001, batch_size=64):\n",
    "        self.train_imgs = train_imgs\n",
    "        self.train_labels = train_labels\n",
    "        self.client_id = client_id\n",
    "        self.learning_rate = learning_rate\n",
    "        self.batch_size = batch_size\n",
    "        self.loss_hist = []\n",
    "        self.name = format('client_%d' %self.client_id)\n",
    "        self._create_model(128)\n",
    "    \n",
    "    def _create_model(self, num_hidden):\n",
    "        with tf.variable_scope(self.name):\n",
    "            self.x = tf.placeholder(tf.float32, [None, 784], name=\"x\")\n",
    "            self.y = tf.placeholder(tf.float32, [None, 10], name=\"y\")\n",
    "            h1 = tf.nn.tanh(linear(self.x, num_hidden, 'h1'))\n",
    "            self.y_logits = linear(h1, 10, 'h2')\n",
    "            \n",
    "            \n",
    "            self.loss = tf.reduce_mean(tf.nn.softmax_cross_entropy_with_logits(logits = self.y_logits, labels = self.y))\n",
    "            self.train_step  = tf.train.GradientDescentOptimizer(self.learning_rate).minimize(self.loss)\n",
    "    \n",
    "    def train(self, session, num_steps):\n",
    "        for i in range(num_steps):\n",
    "            for j in range(self.train_imgs.shape[0]//self.batch_size):\n",
    "                batch_xs = self.train_imgs[j* self.batch_size: (j+1)*self.batch_size]\n",
    "                batch_ys = self.train_labels[j* self.batch_size: (j+1) * self.batch_size]\n",
    "                _, cur_loss = session.run([self.train_step, self.loss], feed_dict={self.x : batch_xs, self.y: batch_ys})\n",
    "            self.loss_hist.append(cur_loss)\n",
    "            \n",
    "    def get_loss_hist(self):\n",
    "        return self.loss_hist\n",
    "                \n",
    "    def get_weights(self, session):\n",
    "        return session.run([v for v in tf.trainable_variables() if v.name.startswith(self.name)])\n",
    "    \n",
    "    def set_weights(self, session, weights):\n",
    "        my_weights = [v for v in tf.trainable_variables() if v.name.startswith(self.name)]\n",
    "        for i, v in enumerate(my_weights):\n",
    "            session.run(v.assign(weights[i]))\n",
    "            \n",
    "    def get_name(self):\n",
    "        return self.name\n",
    "    \n",
    "        \n",
    "        \n",
    "            \n",
    "            "
   ]
  },
  {
   "cell_type": "code",
   "execution_count": 8,
   "metadata": {
    "collapsed": false
   },
   "outputs": [],
   "source": [
    "# simulator = FedLearningSimulator(5, train_imgs, train_labels, test_imgs, test_labels, learning_rate, 64)\n",
    "# for i in range(10):\n",
    "#     simulator.train(1)\n",
    "#     #simulator.merge_weights()\n",
    "# simulator.plot_loss_hist()\n",
    "\n",
    "class FedLearningSimulator(object):\n",
    "    def __init__(self, num_clients, train_imgs, train_labels, test_imgs, test_labels, learning_rate, batch_size):\n",
    "        self.num_clients = num_clients\n",
    "        self.train_imgs = train_imgs\n",
    "        self.train_labels = train_labels\n",
    "        self.test_imgs = test_imgs\n",
    "        self.test_labels = test_labels\n",
    "        self.learning_rate = learning_rate\n",
    "        self.batch_size = batch_size\n",
    "        self.clients = []\n",
    "        self.session = tf.Session()\n",
    "        self.clients_data = self._distribute_data(self.num_clients)\n",
    "        for i in range(num_clients):\n",
    "            self.clients.append(self._create_client(i, self.clients_data[i][0], self.clients_data[i][1]))\n",
    "#         self.session.run(tf.initialize_all_variables())\n",
    "#         tf.global_variables_initializer\n",
    "        self.session.run(tf.global_variables_initializer())\n",
    "    \n",
    "    def _distribute_data(self, num_clients):\n",
    "        clients_data = []\n",
    "        client_share = self.train_imgs.shape[0] // num_clients\n",
    "        for i in range(num_clients):\n",
    "            client_imgs = self.train_imgs[i*client_share: (i+1)*client_share]\n",
    "            client_labels = self.train_labels[i*client_share: (i+1)*client_share]\n",
    "            \n",
    "            clients_data.append((client_imgs, client_labels))\n",
    "        return clients_data\n",
    "    \n",
    "    def _create_client(self, i, client_x, client_y):\n",
    "        return FedLearnClient(client_x, client_y, i, self.learning_rate)\n",
    "    \n",
    "    def train(self, num_steps):\n",
    "        for i, client in enumerate(self.clients):\n",
    "            client.train(self.session, num_steps)\n",
    "            \n",
    "    def merge_weights(self):\n",
    "        clients_weights = [x.get_weights(self.session) for x in self.clients]\n",
    "        final_weights = self.get_final_weight(clients_weights)\n",
    "        \n",
    "        ## Set the final weights\n",
    "        for c in self.clients:\n",
    "            c.set_weights(self.session, final_weights)\n",
    "    \n",
    "    def get_final_weight(self, clients_weights):\n",
    "        \"\"\" client_weights is a list of weights for every client\n",
    "        length of list = number of clients\n",
    "        each client has a list of length = number of individual parameters\n",
    "        \"\"\"\n",
    "        ## Merge weights by average\n",
    "        final_weights = np.mean(np.array(clients_weights), axis=0)\n",
    "        return final_weights\n",
    "    \n",
    "    def plot_loss_hist(self):\n",
    "        fig = plt.figure()\n",
    "        ax = fig.add_subplot(111)\n",
    "        for i in range(self.num_clients):\n",
    "            client_loss = self.clients[i].get_loss_hist()\n",
    "            plt.plot(client_loss, label=self.clients[i].get_name())\n",
    "        ax.legend()\n",
    "        plt.xlabel('Iteration')\n",
    "        plt.ylabel('Training loss')\n",
    "        fig.show()\n",
    "        \n",
    "    def get_clients_loss_hist(self):\n",
    "        return [x.get_loss_hist() for x in self.clients]\n",
    "            \n",
    "            "
   ]
  },
  {
   "cell_type": "code",
   "execution_count": 9,
   "metadata": {
    "collapsed": false
   },
   "outputs": [],
   "source": [
    "simulator = FedLearningSimulator(5, train_imgs, train_labels, test_imgs, test_labels, learning_rate, 64)"
   ]
  },
  {
   "cell_type": "code",
   "execution_count": 10,
   "metadata": {
    "collapsed": false,
    "scrolled": true
   },
   "outputs": [
    {
     "name": "stderr",
     "output_type": "stream",
     "text": [
      "/home/tianwei/anaconda2/lib/python2.7/site-packages/matplotlib/figure.py:402: UserWarning: matplotlib is currently using a non-GUI backend, so cannot show the figure\n",
      "  \"matplotlib is currently using a non-GUI backend, \"\n"
     ]
    },
    {
     "data": {
      "image/png": "[encoded data removed]",
      "text/plain": [
       "<matplotlib.figure.Figure at 0x7faac64ac750>"
      ]
     },
     "metadata": {},
     "output_type": "display_data"
    }
   ],
   "source": [
    "for i in range(10):\n",
    "    simulator.train(1)\n",
    "    #simulator.merge_weights()\n",
    "simulator.plot_loss_hist()"
   ]
  },
  {
   "cell_type": "code",
   "execution_count": 11,
   "metadata": {
    "collapsed": false
   },
   "outputs": [
    {
     "data": {
      "text/plain": [
       "[7.6879749, 6.5524416, 8.5282822, 6.8607025, 6.677969]"
      ]
     },
     "execution_count": 11,
     "metadata": {},
     "output_type": "execute_result"
    }
   ],
   "source": [
    "[x[-1] for x in simulator.get_clients_loss_hist()]"
   ]
  },
  {
   "cell_type": "code",
   "execution_count": null,
   "metadata": {
    "collapsed": true
   },
   "outputs": [],
   "source": []
  }
 ],
 "metadata": {
  "anaconda-cloud": {},
  "kernelspec": {
   "display_name": "Python 2",
   "language": "python",
   "name": "python2"
  },
  "language_info": {
   "codemirror_mode": {
    "name": "ipython",
    "version": 2
   },
   "file_extension": ".py",
   "mimetype": "text/x-python",
   "name": "python",
   "nbconvert_exporter": "python",
   "pygments_lexer": "ipython2",
   "version": "2.7.13"
  }
 },
 "nbformat": 4,
 "nbformat_minor": 1
}
